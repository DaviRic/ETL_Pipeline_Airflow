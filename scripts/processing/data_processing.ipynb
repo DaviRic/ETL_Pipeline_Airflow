{
 "cells": [
  {
   "cell_type": "markdown",
   "metadata": {},
   "source": [
    "#### Definindo a função que vai fazer a transformação das planilhas antes de implementar um script que faça isso para todas"
   ]
  },
  {
   "cell_type": "code",
   "execution_count": 6,
   "metadata": {},
   "outputs": [],
   "source": [
    "import pandas as pd\n",
    "import re\n",
    "\n",
    "fruit_main_path = \"data/raw/fruits/fruit-main\"\n",
    "processed_path = \"datasets\"\n",
    "\n",
    "def clean_name(name):   \n",
    "    return re.sub(r'\\d+$', '', str(name)).strip()\n",
    "\n",
    "# Função que processa cada planilha dentro da pasta fruits\n",
    "def processed_fruit_excel(file_path, fruit_name):\n",
    "    xls_file = pd.ExcelFile(file_path)\n",
    "\n",
    "    sheet_name = fruit_name.capitalize()\n",
    "    if sheet_name not in xls_file.sheet_names:\n",
    "        print(f\"Aba {sheet_name} não encontrada em {file_path}\")\n",
    "        return None\n",
    "    \n",
    "    df = pd.read_excel(xls_file, sheet_name=sheet_name, skiprows=1)\n",
    "    df = df[~df.iloc[:, 0].astype(str).str.contains(\"USDA|Excludes|Includes|Source\", na=False)]\n",
    "\n",
    "    # Identificando subtítulos e dividindo em duas partes\n",
    "    subtitle_row = df[df.iloc[:, 0].astype(str).str.match(r\"^[A-Za-z\\s]+$\", na=False)].index\n",
    "    if not subtitle_row.empty:\n",
    "        df_products = df.iloc[:subtitle_row[0]].reset_index(drop=True)\n",
    "        df_products.iloc[:, 0] = df_products.iloc[:, 0].apply(clean_name)\n",
    "        # Renomeando colunas\n",
    "        df_products.columns = [\n",
    "            \"Category\", \"Avg_Retail_price\", \"Unit\", \"Prep_Yield_Factor\",\n",
    "            \"Cup_Size\", \"Cup_Unit\", \"Avg_Price_Cup\"\n",
    "        ]\n",
    "\n",
    "        df_subtitle = df.iloc[subtitle_row[0] + 1:].reset_index(drop=True)\n",
    "        df_subtitle.iloc[:, 0] = df_subtitle.iloc[:, 0].apply(clean_name)\n",
    "        # Renomeando colunas\n",
    "        df_subtitle.columns = [\n",
    "            \"Category\", \"Avg_Retail_price\", \"Unit\", \"Prep_Yield_Factor\",\n",
    "            \"Cup_Size\", \"Cup_Unit\", \"Avg_Price_Cup\"\n",
    "        ]\n",
    "    else:\n",
    "        df_products = df.copy()\n",
    "        df_products.iloc[:, 0] = df_products.iloc[:, 0].apply(clean_name)\n",
    "        df_products.columns = [\n",
    "            \"Category\", \"Avg_Retail_price\", \"Unit\", \"Prep_Yield_Factor\",\n",
    "            \"Cup_Size\", \"Cup_Unit\", \"Avg_Price_Cup\"\n",
    "        ]\n",
    "        df_subtitle = None\n",
    "\n",
    "    df_products[\"Category\"] = \"Product\"\n",
    "    if df_subtitle is not None:\n",
    "        df_subtitle[\"Category\"] = \"Subcategory\"\n",
    "        df_final = pd.concat([df_products, df_subtitle], ignore_index=True)\n",
    "    else:\n",
    "        df_final = df_products\n",
    "\n",
    "    df_final[\"Fruit\"] = fruit_name\n",
    "\n",
    "    return df_final"
   ]
  },
  {
   "cell_type": "code",
   "execution_count": null,
   "metadata": {},
   "outputs": [],
   "source": [
    "file_path = \"/home/davicruvel/airflow_project/data/raw/fruits/fruit-main/Apples-2022.xlsx\"\n",
    "fruit_name = \"Apples\"\n",
    "df = processed_fruit_excel(file_path, fruit_name)\n",
    "df.head(10)"
   ]
  },
  {
   "cell_type": "markdown",
   "metadata": {},
   "source": [
    "#### Tranforma apenas uma planilha específica"
   ]
  },
  {
   "cell_type": "code",
   "execution_count": null,
   "metadata": {},
   "outputs": [],
   "source": [
    "import os\n",
    "import pandas as pd\n",
    "\n",
    "# Diretório onde as planilhas transformadas serão salvas\n",
    "processed_fruit_path = \"datasets/processed_fruits\"\n",
    "os.makedirs(processed_fruit_path, exist_ok=True)\n",
    "\n",
    "# Percorrer todas as planilhas dentro de fruit_main_path\n",
    "for file in os.listdir(fruit_main_path):\n",
    "    if file.endswith(\".xlsx\"):\n",
    "        fruit_name = file.split(\"-\")[0].lower()\n",
    "        file_path = os.path.join(fruit_main_path, file)\n",
    "\n",
    "        print(f\"Processando {file}...\")\n",
    "\n",
    "        df_fruit = processed_fruit_excel(file_path, fruit_name)\n",
    "\n",
    "        if df_fruit is not None:\n",
    "            # Criar o caminho correto para salvar a planilha processada\n",
    "            save_path = os.path.join(processed_fruit_path, \"fruit-main\")\n",
    "            os.makedirs(save_path, exist_ok=True)\n",
    "\n",
    "            # Salvar o DataFrame como um novo arquivo Excel\n",
    "            output_file = os.path.join(save_path, f\"{file}\")\n",
    "            df_fruit.to_excel(output_file, index=False)\n",
    "\n",
    "            print(f\"Planilha processada salva em {output_file}\")\n",
    "\n",
    "print(\"Todas as planilhas foram processadas e salvas!\")"
   ]
  },
  {
   "cell_type": "markdown",
   "metadata": {},
   "source": [
    "#### Essa parte já faz toda a transformação em todas as planilhas de todos os anos (2013, 2016, 2020 e 2022 (fruit-main))"
   ]
  },
  {
   "cell_type": "code",
   "execution_count": null,
   "metadata": {},
   "outputs": [
    {
     "ename": "FileNotFoundError",
     "evalue": "[Errno 2] No such file or directory: 'data/raw/fruits'",
     "output_type": "error",
     "traceback": [
      "\u001b[0;31m---------------------------------------------------------------------------\u001b[0m",
      "\u001b[0;31mFileNotFoundError\u001b[0m                         Traceback (most recent call last)",
      "Cell \u001b[0;32mIn[7], line 51\u001b[0m\n\u001b[1;32m     48\u001b[0m     \u001b[38;5;28mprint\u001b[39m(\u001b[38;5;124m\"\u001b[39m\u001b[38;5;124mTodas as planilhas foram processadas e salvas!\u001b[39m\u001b[38;5;124m\"\u001b[39m)\n\u001b[1;32m     50\u001b[0m \u001b[38;5;66;03m# Executa o processamento\u001b[39;00m\n\u001b[0;32m---> 51\u001b[0m \u001b[43mprocess_all_fruit_excels\u001b[49m\u001b[43m(\u001b[49m\u001b[43m)\u001b[49m\n",
      "Cell \u001b[0;32mIn[7], line 7\u001b[0m, in \u001b[0;36mprocess_all_fruit_excels\u001b[0;34m()\u001b[0m\n\u001b[1;32m      6\u001b[0m \u001b[38;5;28;01mdef\u001b[39;00m \u001b[38;5;21mprocess_all_fruit_excels\u001b[39m():\n\u001b[0;32m----> 7\u001b[0m     \u001b[38;5;28;01mfor\u001b[39;00m subfolder \u001b[38;5;129;01min\u001b[39;00m \u001b[43mos\u001b[49m\u001b[38;5;241;43m.\u001b[39;49m\u001b[43mlistdir\u001b[49m\u001b[43m(\u001b[49m\u001b[43mraw_fruit_path\u001b[49m\u001b[43m)\u001b[49m:\n\u001b[1;32m      8\u001b[0m         \u001b[38;5;66;03m# Está criando um caminho para acessar a subpasta dentro da pasta principal\u001b[39;00m\n\u001b[1;32m      9\u001b[0m         \u001b[38;5;66;03m# O intúito dessa linha é acessar as subpastas \"fruit-main\", \"fruit-2020\", etc\u001b[39;00m\n\u001b[1;32m     10\u001b[0m         subfolder_path \u001b[38;5;241m=\u001b[39m os\u001b[38;5;241m.\u001b[39mpath\u001b[38;5;241m.\u001b[39mjoin(raw_fruit_path, subfolder)\n\u001b[1;32m     12\u001b[0m         \u001b[38;5;66;03m# Verifica se é uma pasta\u001b[39;00m\n",
      "\u001b[0;31mFileNotFoundError\u001b[0m: [Errno 2] No such file or directory: 'data/raw/fruits'"
     ]
    }
   ],
   "source": [
    "raw_fruit_path = \"data/raw/fruits\"\n",
    "processed_fruit_path = \"datasets/processed_fruits\"\n",
    "os.makedirs(processed_fruit_path, exist_ok=True)\n",
    "\n",
    "# Função para processar todas as planilhas de todas as subpastas\n",
    "def process_all_fruit_excels():\n",
    "    for subfolder in os.listdir(raw_fruit_path):\n",
    "        subfolder_path = os.path.join(raw_fruit_path, subfolder)\n",
    "\n",
    "        # Verifica se é uma pasta\n",
    "        if os.path.isdir(subfolder_path):\n",
    "            save_path = os.path.join(processed_fruit_path, subfolder)\n",
    "            os.makedirs(save_path, exist_ok=True)\n",
    "\n",
    "            # Vou iterar sobre cada pasta que contem as planilhas excel para transformá-las\n",
    "            for file in os.listdir(subfolder_path):\n",
    "                if file.endswith(\".xlsx\"):\n",
    "                    # Normaliza o nome do arquivo substituindo espaços e underscores por hífens\n",
    "                    normalized_file = file.replace(\"_\", \"-\").replace(\" \", \"-\").lower()\n",
    "                    # Extrai o nome da fruta pelo nome do arquivo e coloca todas as letras em minúscula\n",
    "                    fruit_name = normalized_file.split(\"-\")[0].lower()\n",
    "\n",
    "                    file_path = os.path.join(subfolder_path, file)\n",
    "\n",
    "                    print(f\"Processando {file} de {subfolder}...\")\n",
    "\n",
    "                    df_fruit = processed_fruit_excel(file_path, fruit_name)\n",
    "\n",
    "                    # Verifica se gerou um dataframe ao rodar \"processed_fruit_excel\"\n",
    "                    if df_fruit is not None:\n",
    "                        output_file = os.path.join(save_path, file)\n",
    "                        df_fruit.to_excel(output_file, index=False)\n",
    "                        print(f\"Salvo: {output_file}\")\n",
    "\n",
    "    print(\"Todas as planilhas foram processadas e salvas!\")\n",
    "\n",
    "# Executa o processamento\n",
    "process_all_fruit_excels()"
   ]
  },
  {
   "cell_type": "code",
   "execution_count": null,
   "metadata": {},
   "outputs": [],
   "source": []
  }
 ],
 "metadata": {
  "kernelspec": {
   "display_name": "airflow_venv",
   "language": "python",
   "name": "python3"
  },
  "language_info": {
   "codemirror_mode": {
    "name": "ipython",
    "version": 3
   },
   "file_extension": ".py",
   "mimetype": "text/x-python",
   "name": "python",
   "nbconvert_exporter": "python",
   "pygments_lexer": "ipython3",
   "version": "3.10.16"
  }
 },
 "nbformat": 4,
 "nbformat_minor": 2
}

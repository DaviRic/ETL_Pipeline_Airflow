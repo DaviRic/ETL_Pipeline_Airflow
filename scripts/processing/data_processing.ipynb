{
 "cells": [
  {
   "cell_type": "markdown",
   "metadata": {},
   "source": [
    "#### Definindo a função que vai fazer a transformação das planilhas antes de implementar um script que faça isso para todas"
   ]
  },
  {
   "cell_type": "code",
   "execution_count": null,
   "metadata": {},
   "outputs": [],
   "source": [
    "import pandas as pd\n",
    "import re\n",
    "\n",
    "fruit_main_path = \"data/raw/fruits/fruit-main\"\n",
    "processed_path = \"datasets\"\n",
    "\n",
    "def clean_name(name):   \n",
    "    return re.sub(r'\\d+$', '', str(name)).strip()\n",
    "\n",
    "# Função que processa cada planilha dentro da pasta fruits\n",
    "def processed_fruit_excel(file_path, fruit_name):\n",
    "    xls_file = pd.ExcelFile(file_path)\n",
    "\n",
    "    sheet_name = fruit_name.capitalize()\n",
    "    if sheet_name not in xls_file.sheet_names:\n",
    "        print(f\"Aba {sheet_name} não encontrada em {file_path}\")\n",
    "        return None\n",
    "    \n",
    "    df = pd.read_excel(xls_file, sheet_name=sheet_name, skiprows=1)\n",
    "    df = df[~df.iloc[:, 0].astype(str).str.contains(\"USDA|Excludes|Includes|Source\", na=False)]\n",
    "\n",
    "    # Identificando subtítulos e dividindo em duas partes\n",
    "    subtitle_row = df[df.iloc[:, 0].astype(str).str.match(r\"^[A-Za-z\\s]+$\", na=False)].index\n",
    "    if not subtitle_row.empty:\n",
    "        df_products = df.iloc[:subtitle_row[0]].reset_index(drop=True)\n",
    "        df_products.iloc[:, 0] = df_products.iloc[:, 0].apply(clean_name)\n",
    "        # Renomeando colunas\n",
    "        df_products.columns = [\n",
    "            \"Category\", \"Avg_Retail_price\", \"Unit\", \"Prep_Yield_Factor\",\n",
    "            \"Cup_Size\", \"Cup_Unit\", \"Avg_Price_Cup\"\n",
    "        ]\n",
    "\n",
    "        df_subtitle = df.iloc[subtitle_row[0] + 1:].reset_index(drop=True)\n",
    "        df_subtitle.iloc[:, 0] = df_subtitle.iloc[:, 0].apply(clean_name)\n",
    "        # Renomeando colunas\n",
    "        df_subtitle.columns = [\n",
    "            \"Category\", \"Avg_Retail_price\", \"Unit\", \"Prep_Yield_Factor\",\n",
    "            \"Cup_Size\", \"Cup_Unit\", \"Avg_Price_Cup\"\n",
    "        ]\n",
    "    else:\n",
    "        df_products = df.copy()\n",
    "        df_products.iloc[:, 0] = df_products.iloc[:, 0].apply(clean_name)\n",
    "        df_products.columns = [\n",
    "            \"Category\", \"Avg_Retail_price\", \"Unit\", \"Prep_Yield_Factor\",\n",
    "            \"Cup_Size\", \"Cup_Unit\", \"Avg_Price_Cup\"\n",
    "        ]\n",
    "        df_subtitle = None\n",
    "\n",
    "    df_products[\"Category\"] = \"Product\"\n",
    "    if df_subtitle is not None:\n",
    "        df_subtitle[\"Category\"] = \"Subcategory\"\n",
    "        df_final = pd.concat([df_products, df_subtitle], ignore_index=True)\n",
    "    else:\n",
    "        df_final = df_products\n",
    "\n",
    "    df_final[\"Fruit\"] = fruit_name\n",
    "\n",
    "    return df_final"
   ]
  },
  {
   "cell_type": "code",
   "execution_count": null,
   "metadata": {},
   "outputs": [],
   "source": [
    "file_path = \"/home/davicruvel/airflow_project/data/raw/fruits/fruit-main/Apples-2022.xlsx\"\n",
    "fruit_name = \"Apples\"\n",
    "df = processed_fruit_excel(file_path, fruit_name)\n",
    "df.head(10)"
   ]
  },
  {
   "cell_type": "markdown",
   "metadata": {},
   "source": [
    "#### Tranforma apenas uma planilha específica"
   ]
  },
  {
   "cell_type": "code",
   "execution_count": null,
   "metadata": {},
   "outputs": [],
   "source": [
    "import os\n",
    "import pandas as pd\n",
    "\n",
    "# Diretório onde as planilhas transformadas serão salvas\n",
    "processed_fruit_path = \"datasets/processed_fruits\"\n",
    "os.makedirs(processed_fruit_path, exist_ok=True)\n",
    "\n",
    "# Percorrer todas as planilhas dentro de fruit_main_path\n",
    "for file in os.listdir(fruit_main_path):\n",
    "    if file.endswith(\".xlsx\"):\n",
    "        fruit_name = file.split(\"-\")[0].lower()\n",
    "        file_path = os.path.join(fruit_main_path, file)\n",
    "\n",
    "        print(f\"Processando {file}...\")\n",
    "\n",
    "        df_fruit = processed_fruit_excel(file_path, fruit_name)\n",
    "\n",
    "        if df_fruit is not None:\n",
    "            # Criar o caminho correto para salvar a planilha processada\n",
    "            save_path = os.path.join(processed_fruit_path, \"fruit-main\")\n",
    "            os.makedirs(save_path, exist_ok=True)\n",
    "\n",
    "            # Salvar o DataFrame como um novo arquivo Excel\n",
    "            output_file = os.path.join(save_path, f\"{file}\")\n",
    "            df_fruit.to_excel(output_file, index=False)\n",
    "\n",
    "            print(f\"Planilha processada salva em {output_file}\")\n",
    "\n",
    "print(\"Todas as planilhas foram processadas e salvas!\")"
   ]
  },
  {
   "cell_type": "markdown",
   "metadata": {},
   "source": [
    "#### Essa parte já faz toda a transformação em todas as planilhas de todos os anos (2013, 2016, 2020 e 2022 (fruit-main))"
   ]
  },
  {
   "cell_type": "code",
   "execution_count": null,
   "metadata": {},
   "outputs": [
    {
     "name": "stdout",
     "output_type": "stream",
     "text": [
      "raw\n"
     ]
    }
   ],
   "source": [
    "import os\n",
    "\n",
    "raw_fruit_path = \"data/raw/fruits\"\n",
    "processed_fruit_path = \"datasets/processed_fruits\"\n",
    "os.makedirs(processed_fruit_path, exist_ok=True)\n",
    "\n",
    "def process_all_fruit_excels():\n",
    "    for subfolder in os.listdir(raw_fruit_path):\n"
   ]
  },
  {
   "cell_type": "code",
   "execution_count": null,
   "metadata": {},
   "outputs": [],
   "source": []
  }
 ],
 "metadata": {
  "kernelspec": {
   "display_name": "airflow_venv",
   "language": "python",
   "name": "python3"
  },
  "language_info": {
   "codemirror_mode": {
    "name": "ipython",
    "version": 3
   },
   "file_extension": ".py",
   "mimetype": "text/x-python",
   "name": "python",
   "nbconvert_exporter": "python",
   "pygments_lexer": "ipython3",
   "version": "3.10.16"
  }
 },
 "nbformat": 4,
 "nbformat_minor": 2
}
